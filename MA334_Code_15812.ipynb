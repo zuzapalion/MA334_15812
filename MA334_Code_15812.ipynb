{
 "cells": [
  {
   "cell_type": "markdown",
   "id": "decreased-memorabilia",
   "metadata": {},
   "source": [
    "# Define necessary functions: "
   ]
  },
  {
   "cell_type": "markdown",
   "id": "therapeutic-legend",
   "metadata": {},
   "source": [
    "#### Get the incidence matrix N of G:"
   ]
  },
  {
   "cell_type": "markdown",
   "id": "allied-transcript",
   "metadata": {},
   "source": [
    "0: the 1 snark on 10 vertices, \n",
    "1, 2: the 2 snarks on 18 vertices,\n",
    "3 - 8: the 6 snarks on 20 vertices,\n",
    "9 - 39: the 31 snarks on 22 vertices, \n",
    "40 - 194: the 155 snarks on 24 vertices;"
   ]
  },
  {
   "cell_type": "code",
   "execution_count": null,
   "id": "approved-gossip",
   "metadata": {},
   "outputs": [],
   "source": [
    "def incidence_matrix (i):\n",
    "    \n",
    "    # Import snarks from a .txt file based on House of Snarks, https://hog.grinvin.org/Snarks :\n",
    "    with open('/Users/zuzapalion/Desktop/Snarks.txt') as f:\n",
    "        snarks = [line.rstrip() for line in f]\n",
    "    \n",
    "    # Encode graph6 notation from snark[i] to a graph G: \n",
    "    from sage.graphs.graph_input import from_graph6\n",
    "    G = Graph()\n",
    "    from_graph6(G, snarks[i]) \n",
    "    \n",
    "    # Obtain the incidence incidence matrix N of the graph G over GF(2):   \n",
    "    N = G.incidence_matrix()\n",
    "    N = N.change_ring(GF(2))\n",
    "    return N "
   ]
  },
  {
   "cell_type": "markdown",
   "id": "equal-burke",
   "metadata": {},
   "source": [
    "#### Get the number of vertices vxs of G:"
   ]
  },
  {
   "cell_type": "code",
   "execution_count": null,
   "id": "bacterial-consciousness",
   "metadata": {},
   "outputs": [],
   "source": [
    "def vertices(N):\n",
    "    vxs = N.dimensions()[0]\n",
    "    return vxs"
   ]
  },
  {
   "cell_type": "markdown",
   "id": "toxic-plate",
   "metadata": {},
   "source": [
    "#### Define an ordering for snarks on different numbers of vertices:"
   ]
  },
  {
   "cell_type": "code",
   "execution_count": null,
   "id": "binding-magic",
   "metadata": {},
   "outputs": [],
   "source": [
    "def count(vxs, i):\n",
    "    no = 0\n",
    "    if vxs == 10:\n",
    "        no = i\n",
    "    if vxs == 18:\n",
    "        no = i-1\n",
    "    if vxs == 20:\n",
    "        no = i-3\n",
    "    if vxs == 22:\n",
    "        no = i-9\n",
    "    if vxs == 24:\n",
    "        no = i-40\n",
    "    no = no + 1\n",
    "    return no"
   ]
  },
  {
   "cell_type": "markdown",
   "id": "distinct-pixel",
   "metadata": {},
   "source": [
    "#### Get a matrix M_t with rows that are all of T-joins of G:"
   ]
  },
  {
   "cell_type": "code",
   "execution_count": null,
   "id": "korean-federal",
   "metadata": {},
   "outputs": [],
   "source": [
    "def get_all_tjoins_matrix(N):\n",
    "    # Obtain the kernel K of the incidence matrix of the graph G:\n",
    "    K = N.right_kernel_matrix(basis='computed') \n",
    "\n",
    "    # Create a list B of basis vectors (circuits of G) for the kernel K:\n",
    "    B = K.rows()\n",
    "\n",
    "    # Obtain all the cycles of graph G, and matrix S with cycles as columns:\n",
    "    V = VectorSpace(GF(2),N.dimensions()[1])\n",
    "    cycles = V.subspace(B).list()\n",
    "    S = matrix(GF(2), cycles)\n",
    "\n",
    "    # Find a single perfect matching for T = V(G) by solving the feasibility problem: \n",
    "    R = N.change_ring(QQ)\n",
    "    p_t = MixedIntegerLinearProgram(solver = \"GLPK\")\n",
    "    x_t = p_t.new_variable(binary = True)\n",
    "    p_t.add_constraint(R * x_t == 1)\n",
    "    p_t.set_objective(0)\n",
    "    p_t.solve()\n",
    "    x_t = p_t.get_values(x_t) \n",
    "    x_t_v = vector(GF(2), x_t)\n",
    "    b = N*x_t_v\n",
    "    \n",
    "    one = []\n",
    "    for i in range(N.dimensions()[0]):\n",
    "        one.append(1)\n",
    "    b == one\n",
    "    \n",
    "    # Create a matrix Z whose every column is the single perfect matching:   \n",
    "    rows = []\n",
    "    for i in range(S.dimensions()[0]):\n",
    "        rows.append(x_t_v)\n",
    "    \n",
    "    Z = matrix(GF(2), rows)\n",
    "    \n",
    "    # Obtain a matrix M_t with rows being all of T-joins of Snark i: \n",
    "    M = S+Z\n",
    "    M_t = M.transpose()\n",
    "    \n",
    "    return M_t"
   ]
  },
  {
   "cell_type": "markdown",
   "id": "greater-diana",
   "metadata": {},
   "source": [
    "#### Solve the dual LP to find the incidence vector \"packing\" of the maximum fractional packing of T-joins of G: "
   ]
  },
  {
   "cell_type": "code",
   "execution_count": null,
   "id": "least-jungle",
   "metadata": {},
   "outputs": [],
   "source": [
    "def get_tjoins_packing(M_t):\n",
    "    \n",
    "    # Solve the dual LP: find the max fractional packing of T-joins \n",
    "    d = MixedIntegerLinearProgram(solver = \"GLPK/exact\", maximization = True)\n",
    "    y = d.new_variable(real=True, nonnegative=True)\n",
    "    d.add_constraint(M_t * y <= 1)\n",
    "    d.set_objective(d.sum(y[i] for i in range(M_t.dimensions()[1])))\n",
    "    sol = d.solve()\n",
    "    packing = d.get_values(y)\n",
    "    \n",
    "    return packing "
   ]
  },
  {
   "cell_type": "markdown",
   "id": "eligible-sector",
   "metadata": {},
   "source": [
    "#### Show only non-zero entries of \"packing\" in \"packing_short\":"
   ]
  },
  {
   "cell_type": "code",
   "execution_count": null,
   "id": "wrong-height",
   "metadata": {},
   "outputs": [],
   "source": [
    "def shorten_packing(packing):\n",
    "    \n",
    "    # Show only the non-zero entries of the incidence vector of the packing: \n",
    "    packing_short = {}  \n",
    "    for key, value in packing.items():\n",
    "         if (value != 0):\n",
    "                packing_short[key] = value\n",
    "    \n",
    "    return packing_short"
   ]
  },
  {
   "cell_type": "markdown",
   "id": "explicit-material",
   "metadata": {},
   "source": [
    "#### Check if n is a power of 2: "
   ]
  },
  {
   "cell_type": "code",
   "execution_count": null,
   "id": "romantic-differential",
   "metadata": {},
   "outputs": [],
   "source": [
    "def power_of_two(n):\n",
    "    while (n != 1):\n",
    "            if (n % 2 != 0):\n",
    "                return False\n",
    "            else:\n",
    "                n = n // 2       \n",
    "    \n",
    "    return True"
   ]
  },
  {
   "cell_type": "markdown",
   "id": "fewer-boost",
   "metadata": {},
   "source": [
    "#### Check if the entry of \"packing_short\" is dyadic:"
   ]
  },
  {
   "cell_type": "code",
   "execution_count": null,
   "id": "needed-closing",
   "metadata": {},
   "outputs": [],
   "source": [
    "def check_dyadicness_entry(packing_short):\n",
    "    \n",
    "    # Check if each entry of the incidence vector of the packing is dyadic:\n",
    "    packing_short_m = {}\n",
    "    \n",
    "    i = 1 # i is the integer, that increments in the while loop, which if multiplied with the value gives an integer\n",
    "    j = 0 # j is the integer that tracks the number of dyadic entries in the incidence vector\n",
    "\n",
    "    for key in packing_short:\n",
    "        rounded = n(packing_short[key], prec = 32)\n",
    "        while i >= 1:\n",
    "            temp = rounded*i\n",
    "            if temp.is_integer()==True:\n",
    "                packing_short_m[key] = [packing_short[key], i, temp] #store for reference\n",
    "                break\n",
    "            else:\n",
    "                i=i+1\n",
    "  \n",
    "        if(power_of_two(i)):\n",
    "            j=j+1\n",
    "            \n",
    "    return j "
   ]
  },
  {
   "cell_type": "markdown",
   "id": "described-clause",
   "metadata": {},
   "source": [
    "#### Check if the incidence vector \"packing_short\" is dyadic:"
   ]
  },
  {
   "cell_type": "code",
   "execution_count": null,
   "id": "located-plain",
   "metadata": {},
   "outputs": [],
   "source": [
    "def check_dyadicness_vector(packing_short, j):\n",
    "    if (j==len(list(packing_short.values()))):\n",
    "    \n",
    "        return True "
   ]
  },
  {
   "cell_type": "markdown",
   "id": "interstate-intent",
   "metadata": {},
   "source": [
    "# Investigate the snarks: "
   ]
  },
  {
   "cell_type": "code",
   "execution_count": null,
   "id": "lightweight-theme",
   "metadata": {},
   "outputs": [],
   "source": [
    "# Record the time for the code to run:\n",
    "import time\n",
    "start_time = time.time()\n",
    "meas = [] # to measure the total time \n",
    "\n",
    "dyadic = 0 # to count the total number of dyadic optimal solutions\n",
    "\n",
    "\n",
    "# Iterate through 194 snarks to look for maximum fractional packings of postman sets that are dyadic:\n",
    "for i in range(195):\n",
    "    N = incidence_matrix(i)\n",
    "    M_t = get_all_tjoins_matrix(N)\n",
    "    packing = get_tjoins_packing(M_t)\n",
    "    short_packing = shorten_packing(packing)\n",
    "    \n",
    "    check = check_dyadicness_entry(short_packing)\n",
    "    final = check_dyadicness_vector(short_packing, check)\n",
    "    \n",
    "    vxs = vertices(N)\n",
    "    no = count(vxs, i)\n",
    "    \n",
    "    passed = (time.time() - start_time)\n",
    "    howlong = round(passed, 2)\n",
    "    meas.append(passed)  \n",
    "    start_time = time.time()\n",
    "    \n",
    "    if final == True:\n",
    "        print(\"The incidence vector of Snark #\",no,\"with\", vxs, \"vertices:\", short_packing, \" is dyadic.\")\n",
    "        print(\"The operation took\", howlong, \"seconds. \\n\")\n",
    "        dyadic = dyadic + 1 \n",
    "\n",
    "    else:\n",
    "        print(\"The incidence vector of Snark #\",no,\"with\", vxs, \"vertices:\", short_packing, \" is not dyadic.\")\n",
    "        print(\"The operation took\", howlong, \"seconds. \\n\")\n",
    "\n",
    "\n",
    "# Print the % of snarks giving dyadic optimal solutions, and the total run time of the program:        \n",
    "print(n(float(dyadic/194), digits = 2)*100, \"% of snarks give a dyadic optimal solution to the dual LP of finding the maximum fractional packing of postam sets.\")\n",
    "print(\"\\nTotal run time:\", round(sum(meas)/60, 2), \"minutes\")"
   ]
  }
 ],
 "metadata": {
  "kernelspec": {
   "display_name": "SageMath 9.2",
   "language": "sage",
   "name": "sagemath"
  },
  "language_info": {
   "codemirror_mode": {
    "name": "ipython",
    "version": 3
   },
   "file_extension": ".py",
   "mimetype": "text/x-python",
   "name": "python",
   "nbconvert_exporter": "python",
   "pygments_lexer": "ipython3",
   "version": "3.8.6"
  }
 },
 "nbformat": 4,
 "nbformat_minor": 5
}
